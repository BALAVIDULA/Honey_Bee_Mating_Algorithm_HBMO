{
  "nbformat": 4,
  "nbformat_minor": 0,
  "metadata": {
    "colab": {
      "provenance": []
    },
    "kernelspec": {
      "name": "python3",
      "display_name": "Python 3"
    },
    "language_info": {
      "name": "python"
    }
  },
  "cells": [
    {
      "cell_type": "code",
      "execution_count": null,
      "metadata": {
        "colab": {
          "base_uri": "https://localhost:8080/"
        },
        "id": "786DPwbLsyOf",
        "outputId": "400e6c17-fba3-412b-ec4b-b6695b1ab692"
      },
      "outputs": [
        {
          "output_type": "stream",
          "name": "stdout",
          "text": [
            "Initial loss: 1.073918578436312\n",
            "Loss after adjustment: 1.080474119888642\n"
          ]
        }
      ],
      "source": [
        "import numpy as np\n",
        "\n",
        "# Simplified FLANN structure\n",
        "class SimpleFLANN:\n",
        "    def __init__(self, input_size, output_size):\n",
        "        self.weights = np.random.randn(input_size, output_size) * 0.1\n",
        "\n",
        "    def predict(self, inputs):\n",
        "        # Here you might have more complex functional expansion of inputs\n",
        "        return np.dot(inputs, self.weights)\n",
        "\n",
        "    def compute_loss(self, predictions, targets):\n",
        "        # Simplistic loss (mean squared error)\n",
        "        return ((predictions - targets) ** 2).mean()\n",
        "\n",
        "    # Placeholder for optimization step\n",
        "    def adjust_weights(self, adjustment):\n",
        "        self.weights += adjustment\n",
        "\n",
        "# Example usage\n",
        "input_size = 10\n",
        "output_size = 1\n",
        "flann = SimpleFLANN(input_size, output_size)\n",
        "\n",
        "# Dummy data\n",
        "inputs = np.random.randn(100, input_size)\n",
        "targets = np.random.randn(100, output_size)\n",
        "\n",
        "# Prediction before training\n",
        "predictions = flann.predict(inputs)\n",
        "loss = flann.compute_loss(predictions, targets)\n",
        "print(f\"Initial loss: {loss}\")\n",
        "\n",
        "# Simplified optimization step (e.g., might be part of what an optimizer does)\n",
        "adjustment = np.random.randn(input_size, output_size) * 0.01\n",
        "flann.adjust_weights(adjustment)\n",
        "\n",
        "# Prediction after optimization step\n",
        "predictions = flann.predict(inputs)\n",
        "loss = flann.compute_loss(predictions, targets)\n",
        "print(f\"Loss after adjustment: {loss}\")\n"
      ]
    },
    {
      "cell_type": "markdown",
      "source": [
        "HBMO\n"
      ],
      "metadata": {
        "id": "3UOPUAKxt6Mj"
      }
    },
    {
      "cell_type": "code",
      "source": [
        "import numpy as np\n",
        "\n",
        "# Generate a random TSP problem\n",
        "np.random.seed(42)  # For reproducibility\n",
        "num_cities = 10\n",
        "cities = np.random.rand(num_cities, 2)  # Random coordinates for cities\n",
        "\n",
        "# Calculate distance matrix\n",
        "def distance_matrix(cities):\n",
        "    num_cities = len(cities)\n",
        "    return np.sqrt(((cities[:, np.newaxis] - cities[np.newaxis, :]) ** 2).sum(axis=2))\n",
        "\n",
        "dist_matrix = distance_matrix(cities)\n",
        "\n",
        "# Fitness function (total route distance)\n",
        "def route_distance(route):\n",
        "    return np.sum([dist_matrix[route[i], route[i+1]] for i in range(-1, num_cities - 1)])\n",
        "\n",
        "# Initialize population\n",
        "def initialize_population(population_size, num_cities):\n",
        "    return [np.random.permutation(num_cities) for _ in range(population_size)]\n",
        "\n",
        "# Crossover and mutation operations\n",
        "def crossover(route1, route2):\n",
        "    # Simple ordered crossover\n",
        "    start, end = sorted(np.random.choice(num_cities, 2, replace=False))\n",
        "    child = np.array([-1] * num_cities)\n",
        "    child[start:end+1] = route1[start:end+1]\n",
        "    for city in route2:\n",
        "        if city not in child:\n",
        "            idx = np.where(child == -1)[0][0]\n",
        "            child[idx] = city\n",
        "    return child\n",
        "\n",
        "def mutate(route, mutation_rate=0.1):\n",
        "    for i in range(num_cities):\n",
        "        if np.random.rand() < mutation_rate:\n",
        "            swap_idx = np.random.choice(num_cities)\n",
        "            route[i], route[swap_idx] = route[swap_idx], route[i]\n",
        "    return route\n",
        "\n",
        "# HBMO algorithm\n",
        "def hbmo_tsp(population_size, generations):\n",
        "    population = initialize_population(population_size, num_cities)\n",
        "    best_route = None\n",
        "    best_distance = float('inf')\n",
        "\n",
        "    for generation in range(generations):\n",
        "        # Evaluate fitness\n",
        "        fitnesses = np.array([route_distance(route) for route in population])\n",
        "\n",
        "        # Select the best solution\n",
        "        if np.min(fitnesses) < best_distance:\n",
        "            best_distance = np.min(fitnesses)\n",
        "            best_route = population[np.argmin(fitnesses)].copy()\n",
        "\n",
        "        # Generate new solutions (simplified selection and mating)\n",
        "        new_population = []\n",
        "        for _ in range(population_size // 2):\n",
        "            parents = np.random.choice(population_size, 2, replace=False)\n",
        "            child1 = crossover(population[parents[0]], population[parents[1]])\n",
        "            child2 = crossover(population[parents[1]], population[parents[0]])\n",
        "            new_population.extend([mutate(child1), mutate(child2)])\n",
        "        population = new_population\n",
        "\n",
        "    return best_route, best_distance\n",
        "\n",
        "# Run the algorithm\n",
        "population_size = 100\n",
        "generations = 1000\n",
        "best_route, best_distance = hbmo_tsp(population_size, generations)\n",
        "print(\"Best route:\", best_route)\n",
        "print(\"Best distance:\", best_distance)\n"
      ],
      "metadata": {
        "colab": {
          "base_uri": "https://localhost:8080/"
        },
        "id": "tiwswKG4vM7L",
        "outputId": "209d8199-cac3-4b13-be9a-657ffe88cc6b"
      },
      "execution_count": null,
      "outputs": [
        {
          "output_type": "stream",
          "name": "stdout",
          "text": [
            "Best route: [1 6 9 7 2 8 3 5 0 4]\n",
            "Best distance: 2.9030677377778757\n"
          ]
        }
      ]
    },
    {
      "cell_type": "code",
      "source": [],
      "metadata": {
        "id": "0Y2Q5DHvvN1h"
      },
      "execution_count": null,
      "outputs": []
    }
  ]
}